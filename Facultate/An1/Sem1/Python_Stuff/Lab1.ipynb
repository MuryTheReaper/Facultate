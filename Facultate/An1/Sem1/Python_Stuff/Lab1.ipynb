{
 "cells": [
  {
   "cell_type": "code",
   "execution_count": 2,
   "source": [
    "# suma a n numere naturale\n",
    "n=int(input(\"N: \"))\n",
    "s=0\n",
    "for i in range(n):\n",
    "    a=int(input(\"Nr: \"))\n",
    "    s=s+a\n",
    "print(s)"
   ],
   "outputs": [
    {
     "output_type": "stream",
     "name": "stdout",
     "text": [
      "6\n"
     ]
    }
   ],
   "metadata": {}
  },
  {
   "cell_type": "code",
   "execution_count": 14,
   "source": [
    "# verificare prim\n",
    "from math import sqrt\n",
    "n=int(input(\"N: \"))\n",
    "ok=0\n",
    "if(n<2 or n%2==0):\n",
    "    print(\"NU\")\n",
    "else:\n",
    "    if(n==2):\n",
    "        print(\"DA\")\n",
    "    else:\n",
    "        for i in range(3, int(sqrt(n))+1, 2):\n",
    "            if(n%i==0):\n",
    "                print(\"NU\")\n",
    "                ok=1\n",
    "                break\n",
    "        if(ok!=1):\n",
    "            print(\"DA\")\n"
   ],
   "outputs": [
    {
     "output_type": "stream",
     "name": "stdout",
     "text": [
      "DA\n"
     ]
    }
   ],
   "metadata": {}
  },
  {
   "cell_type": "code",
   "execution_count": 13,
   "source": [
    "# cmmdc\n",
    "a=int(input(\"A: \"))\n",
    "b=int(input(\"B: \"))\n",
    "while(b!=0):\n",
    "    r=a%b\n",
    "    a=b\n",
    "    b=r\n",
    "print(abs(a))\n"
   ],
   "outputs": [
    {
     "output_type": "stream",
     "name": "stdout",
     "text": [
      "-5\n"
     ]
    }
   ],
   "metadata": {}
  }
 ],
 "metadata": {
  "orig_nbformat": 4,
  "language_info": {
   "name": "python",
   "version": "3.9.5",
   "mimetype": "text/x-python",
   "codemirror_mode": {
    "name": "ipython",
    "version": 3
   },
   "pygments_lexer": "ipython3",
   "nbconvert_exporter": "python",
   "file_extension": ".py"
  },
  "kernelspec": {
   "name": "python3",
   "display_name": "Python 3.9.5 64-bit"
  },
  "interpreter": {
   "hash": "916dbcbb3f70747c44a77c7bcd40155683ae19c65e1c03b4aa3499c5328201f1"
  }
 },
 "nbformat": 4,
 "nbformat_minor": 2
}