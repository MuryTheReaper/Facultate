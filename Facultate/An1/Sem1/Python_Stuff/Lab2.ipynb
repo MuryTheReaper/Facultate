{
 "cells": [
  {
   "cell_type": "code",
   "execution_count": 6,
   "source": [
    "#1\n",
    "def prim(n):\n",
    "    from math import sqrt\n",
    "    if(n<2 or n%2==0):\n",
    "        return False\n",
    "    else:\n",
    "        if(n==2):\n",
    "            return True\n",
    "        else:\n",
    "            for i in range(3, int(sqrt(n))+1, 2):\n",
    "                if(n%i==0):\n",
    "                    return False\n",
    "            return True\n",
    "\n",
    "n=int(input(\"N: \"))\n",
    "n=n+1\n",
    "while(prim(n)==False):\n",
    "    n=n+1\n",
    "print(n)\n",
    " "
   ],
   "outputs": [
    {
     "output_type": "stream",
     "name": "stdout",
     "text": [
      "29\n"
     ]
    }
   ],
   "metadata": {}
  },
  {
   "cell_type": "code",
   "execution_count": 44,
   "source": [
    "#2\n",
    "azi=input(\"Ce zi e azi (ZZ/LL/AAAA): \")\n",
    "\n",
    "azi_zi=int(azi[0]+azi[1])\n",
    "azi_luna=int(azi[3]+azi[4])\n",
    "azi_an=int(azi[6]+azi[7]+azi[8]+azi[9])\n",
    "\n",
    "nastere=input(\"In ce zi esti nascut/a (ZZ/LL/AAAA): \")\n",
    "\n",
    "nastere_zi=int(nastere[0]+nastere[1])\n",
    "nastere_luna=int(nastere[3]+nastere[4])\n",
    "nastere_an=int(nastere[6]+nastere[7]+nastere[8]+nastere[9])\n",
    "\n",
    "an=(azi_an-nastere_an)*365+azi_an//4-azi_an//100+azi_an//400-nastere_an//4+nastere_an//100-nastere_an//400\n",
    "\n",
    "calendar=[0,31,28,31,30,31,30,31,31,30,31,30,31]\n",
    "\n",
    "luna=0\n",
    "zi=0\n",
    "if azi_luna < nastere_luna:\n",
    "    for i in range(azi_luna+1,nastere_luna+1):\n",
    "        luna=luna-calendar[i]\n",
    "    luna=luna-31\n",
    "else:\n",
    "    for i in range(nastere_luna+1,azi_luna):\n",
    "        luna=luna+calendar[i]\n",
    "\n",
    "zi=azi_zi+(calendar[nastere_luna]-nastere_zi)\n",
    "\n",
    "Zile=zi+luna+an\n",
    "print(Zile)\n",
    "\n",
    "\n",
    "\n"
   ],
   "outputs": [
    {
     "output_type": "stream",
     "name": "stdout",
     "text": [
      "44265\n"
     ]
    }
   ],
   "metadata": {}
  },
  {
   "cell_type": "code",
   "execution_count": 77,
   "source": [
    "#12\n",
    "n=int(input(\"N: \"))\n",
    "x=1\n",
    "if(n==1): print(1)\n",
    "else:\n",
    "    n=n-1\n",
    "    while(n):\n",
    "        x=x+1\n",
    "        i=x\n",
    "        d=2\n",
    "        while(i!=1):\n",
    "            if(i%d==0):\n",
    "                n=n-1\n",
    "                if(n==0):\n",
    "                    print(d)\n",
    "                    break\n",
    "                while(i%d==0):\n",
    "                    i=i//d\n",
    "            d=d+1\n",
    "        \n",
    "\n",
    "\n"
   ],
   "outputs": [
    {
     "output_type": "stream",
     "name": "stdout",
     "text": [
      "5\n"
     ]
    }
   ],
   "metadata": {}
  },
  {
   "cell_type": "code",
   "execution_count": 79,
   "source": [
    "#13\n",
    "n=int(input(\"N: \"))\n",
    "x=1\n",
    "if(n==1): print(1)\n",
    "else:\n",
    "    n=n-1\n",
    "    while(n>=1):\n",
    "        x=x+1\n",
    "        i=x\n",
    "        d=2\n",
    "        while(i!=1):\n",
    "            if(i%d==0):\n",
    "                if(x==d):\n",
    "                    n=n-1\n",
    "                else:\n",
    "                    n=n-d\n",
    "                if(n<=0):\n",
    "                    print(d)\n",
    "                    break\n",
    "                while(i%d==0):\n",
    "                    i=i//d\n",
    "            d=d+1\n",
    "        \n"
   ],
   "outputs": [
    {
     "output_type": "stream",
     "name": "stdout",
     "text": [
      "3\n"
     ]
    }
   ],
   "metadata": {}
  }
 ],
 "metadata": {
  "orig_nbformat": 4,
  "language_info": {
   "name": "python",
   "version": "3.9.5",
   "mimetype": "text/x-python",
   "codemirror_mode": {
    "name": "ipython",
    "version": 3
   },
   "pygments_lexer": "ipython3",
   "nbconvert_exporter": "python",
   "file_extension": ".py"
  },
  "kernelspec": {
   "name": "python3",
   "display_name": "Python 3.9.5 64-bit"
  },
  "interpreter": {
   "hash": "916dbcbb3f70747c44a77c7bcd40155683ae19c65e1c03b4aa3499c5328201f1"
  }
 },
 "nbformat": 4,
 "nbformat_minor": 2
}