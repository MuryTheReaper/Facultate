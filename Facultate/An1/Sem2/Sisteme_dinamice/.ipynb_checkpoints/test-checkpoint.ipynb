{
 "cells": [
  {
   "cell_type": "code",
   "execution_count": 4,
   "id": "9034c1f2",
   "metadata": {},
   "outputs": [
    {
     "data": {
      "text/html": [
       "<html><script type=\"math/tex; mode=display\">\\newcommand{\\Bold}[1]{\\mathbf{#1}}\\frac{1}{2} \\, {\\left(m x^{2} + 2 \\, C\\right)} x</script></html>"
      ],
      "text/latex": [
       "\\begin{math}\n",
       "\\newcommand{\\Bold}[1]{\\mathbf{#1}}\\frac{1}{2} \\, {\\left(m x^{2} + 2 \\, C\\right)} x\n",
       "\\end{math}"
      ],
      "text/plain": [
       "1/2*(m*x^2 + 2*_C)*x"
      ]
     },
     "metadata": {},
     "output_type": "display_data"
    }
   ],
   "source": [
    "#1\n",
    "reset()\n",
    "x,m=var('x,m')\n",
    "y=function('y')(x)\n",
    "equ=diff(y,x)-y/x==m*x^2\n",
    "sol(x,m)=desolve(equ,[y,x])\n",
    "show(sol(x,m))"
   ]
  },
  {
   "cell_type": "code",
   "execution_count": 6,
   "id": "ade802bc",
   "metadata": {},
   "outputs": [
    {
     "data": {
      "text/html": [
       "<html><script type=\"math/tex; mode=display\">\\newcommand{\\Bold}[1]{\\mathbf{#1}}\\frac{1}{2} \\, m x^{3} - \\frac{1}{2} \\, {\\left(m - 2\\right)} x</script></html>"
      ],
      "text/latex": [
       "\\begin{math}\n",
       "\\newcommand{\\Bold}[1]{\\mathbf{#1}}\\frac{1}{2} \\, m x^{3} - \\frac{1}{2} \\, {\\left(m - 2\\right)} x\n",
       "\\end{math}"
      ],
      "text/plain": [
       "1/2*m*x^3 - 1/2*(m - 2)*x"
      ]
     },
     "metadata": {},
     "output_type": "display_data"
    }
   ],
   "source": [
    "sol2(x,m)=desolve(equ,[y,x],[1,1])\n",
    "show(sol2(x,m))"
   ]
  },
  {
   "cell_type": "code",
   "execution_count": 9,
   "id": "0d1a6a74",
   "metadata": {},
   "outputs": [
    {
     "data": {
      "text/plain": [
       "[m == -2]"
      ]
     },
     "execution_count": 9,
     "metadata": {},
     "output_type": "execute_result"
    }
   ],
   "source": [
    "ec=sol2(2,m)==-4\n",
    "solve(ec,m)"
   ]
  },
  {
   "cell_type": "code",
   "execution_count": 13,
   "id": "081d5796",
   "metadata": {},
   "outputs": [
    {
     "data": {
      "text/html": [
       "<html><script type=\"math/tex; mode=display\">\\newcommand{\\Bold}[1]{\\mathbf{#1}}K_{2} {\\left(2 \\, x + 1\\right)}^{2} - \\frac{1}{4} \\, K_{1} + x + \\frac{1}{4}</script></html>"
      ],
      "text/latex": [
       "\\begin{math}\n",
       "\\newcommand{\\Bold}[1]{\\mathbf{#1}}K_{2} {\\left(2 \\, x + 1\\right)}^{2} - \\frac{1}{4} \\, K_{1} + x + \\frac{1}{4}\n",
       "\\end{math}"
      ],
      "text/plain": [
       "_K2*(2*x + 1)^2 - 1/4*_K1 + x + 1/4"
      ]
     },
     "metadata": {},
     "output_type": "display_data"
    }
   ],
   "source": [
    "#2\n",
    "reset()\n",
    "x,m=var('x,m')\n",
    "y=function('y')(x)\n",
    "equ=(2*x+1)*diff(y,x,2)-2*diff(y,x)==-2\n",
    "sol(x)=desolve(equ,[y,x])\n",
    "show(sol(x))"
   ]
  },
  {
   "cell_type": "code",
   "execution_count": 15,
   "id": "693ad0fd",
   "metadata": {},
   "outputs": [
    {
     "data": {
      "text/html": [
       "<html><script type=\"math/tex; mode=display\">\\newcommand{\\Bold}[1]{\\mathbf{#1}}{\\left(2 \\, x + 1\\right)}^{2} + x</script></html>"
      ],
      "text/latex": [
       "\\begin{math}\n",
       "\\newcommand{\\Bold}[1]{\\mathbf{#1}}{\\left(2 \\, x + 1\\right)}^{2} + x\n",
       "\\end{math}"
      ],
      "text/plain": [
       "(2*x + 1)^2 + x"
      ]
     },
     "metadata": {},
     "output_type": "display_data"
    }
   ],
   "source": [
    "sol2(x)=desolve(equ,[y,x],[0,1,5])\n",
    "show(sol2(x))"
   ]
  },
  {
   "cell_type": "code",
   "execution_count": 16,
   "id": "fe8fd686",
   "metadata": {},
   "outputs": [
    {
     "data": {
      "image/png": "[encoded data removed]",
      "text/plain": [
       "Graphics object consisting of 1 graphics primitive"
      ]
     },
     "execution_count": 16,
     "metadata": {},
     "output_type": "execute_result"
    }
   ],
   "source": [
    "plot(sol2(x),x,-2,2)"
   ]
  },
  {
   "cell_type": "code",
   "execution_count": 17,
   "id": "d8790ae1",
   "metadata": {},
   "outputs": [
    {
     "data": {
      "text/plain": [
       "[s == 2, s == -2, s == 1]"
      ]
     },
     "execution_count": 17,
     "metadata": {},
     "output_type": "execute_result"
    }
   ],
   "source": [
    "#3\n",
    "reset()\n",
    "t=var('t')\n",
    "x=function('x')(t)\n",
    "\n",
    "s=var('s')\n",
    "f=function('f')(s)\n",
    "f(s)=-s^3+s^2+4*s-4\n",
    "\n",
    "eqp=solve(f(s)==0,s)\n",
    "eqp"
   ]
  },
  {
   "cell_type": "code",
   "execution_count": 18,
   "id": "2fe97f57",
   "metadata": {},
   "outputs": [],
   "source": [
    "x1=eqp[0].rhs()\n",
    "x2=eqp[1].rhs()\n",
    "x3=eqp[2].rhs()"
   ]
  },
  {
   "cell_type": "code",
   "execution_count": 19,
   "id": "a2d4d754",
   "metadata": {},
   "outputs": [
    {
     "data": {
      "text/plain": [
       "-4"
      ]
     },
     "execution_count": 19,
     "metadata": {},
     "output_type": "execute_result"
    }
   ],
   "source": [
    "diff(f,s)(x1) #local asimtotic stabil"
   ]
  },
  {
   "cell_type": "code",
   "execution_count": 20,
   "id": "95203e2f",
   "metadata": {},
   "outputs": [
    {
     "data": {
      "text/plain": [
       "-12"
      ]
     },
     "execution_count": 20,
     "metadata": {},
     "output_type": "execute_result"
    }
   ],
   "source": [
    "diff(f,s)(x2) #local asimtotic stabil"
   ]
  },
  {
   "cell_type": "code",
   "execution_count": 21,
   "id": "13bdf4b8",
   "metadata": {},
   "outputs": [
    {
     "data": {
      "text/plain": [
       "3"
      ]
     },
     "execution_count": 21,
     "metadata": {},
     "output_type": "execute_result"
    }
   ],
   "source": [
    "diff(f,s)(x3) #instabil"
   ]
  },
  {
   "cell_type": "code",
   "execution_count": 29,
   "id": "ec3e0c88",
   "metadata": {},
   "outputs": [
    {
     "data": {
      "image/png": "[encoded data removed]",
      "text/plain": [
       "Graphics object consisting of 7 graphics primitives"
      ]
     },
     "metadata": {},
     "output_type": "display_data"
    }
   ],
   "source": [
    "deq=diff(x,t)==f(x)\n",
    "g1=desolve_rk4(deq,x,[0,-3],step=0.01, end_points=[0,2],output='plot', color='black')\n",
    "g2=desolve_rk4(deq,x,[0,-2],step=0.01, end_points=[0,2],output='plot', color='blue')\n",
    "g3=desolve_rk4(deq,x,[0,0],step=0.01, end_points=[0,2],output='plot', color='black')\n",
    "g4=desolve_rk4(deq,x,[0,1],step=0.01, end_points=[0,2],output='plot', color='blue')\n",
    "g5=desolve_rk4(deq,x,[0,(3/2)],step=0.01, end_points=[0,2],output='plot', color='black')\n",
    "g6=desolve_rk4(deq,x,[0,2],step=0.01, end_points=[0,2],output='plot', color='blue')\n",
    "g7=desolve_rk4(deq,x,[0,(5/2)],step=0.01, end_points=[0,2],output='plot', color='black')\n",
    "g=g1+g2+g3+g4+g5+g6+g7\n",
    "g.show()"
   ]
  },
  {
   "cell_type": "code",
   "execution_count": 2,
   "id": "ff771fdc",
   "metadata": {},
   "outputs": [],
   "source": [
    "#4\n",
    "reset()\n",
    "x,y,t=var('x,y,t')\n",
    "f1(x,y)=8*x-y^2\n",
    "f2(x,y)=y-x^2"
   ]
  },
  {
   "cell_type": "code",
   "execution_count": 3,
   "id": "92cf9851",
   "metadata": {},
   "outputs": [
    {
     "data": {
      "text/html": [
       "<html><script type=\"math/tex; mode=display\">\\newcommand{\\Bold}[1]{\\mathbf{#1}}\\left[\\left[x = 2, y = 4\\right], \\left[x = i \\, \\sqrt{3} - 1, y = -2 i \\, \\sqrt{3} - 2\\right], \\left[x = -i \\, \\sqrt{3} - 1, y = 2 i \\, \\sqrt{3} - 2\\right], \\left[x = 0, y = 0\\right]\\right]</script></html>"
      ],
      "text/latex": [
       "\\begin{math}\n",
       "\\newcommand{\\Bold}[1]{\\mathbf{#1}}\\left[\\left[x = 2, y = 4\\right], \\left[x = i \\, \\sqrt{3} - 1, y = -2 i \\, \\sqrt{3} - 2\\right], \\left[x = -i \\, \\sqrt{3} - 1, y = 2 i \\, \\sqrt{3} - 2\\right], \\left[x = 0, y = 0\\right]\\right]\n",
       "\\end{math}"
      ],
      "text/plain": [
       "[[x == 2, y == 4], [x == I*sqrt(3) - 1, y == -2*I*sqrt(3) - 2], [x == -I*sqrt(3) - 1, y == 2*I*sqrt(3) - 2], [x == 0, y == 0]]"
      ]
     },
     "metadata": {},
     "output_type": "display_data"
    }
   ],
   "source": [
    "equ=solve([f1(x,y)==0,f2(x,y)==0],x,y)\n",
    "show(equ)"
   ]
  },
  {
   "cell_type": "code",
   "execution_count": 5,
   "id": "05c8512d",
   "metadata": {},
   "outputs": [
    {
     "data": {
      "text/plain": [
       "[   8 -2*y]\n",
       "[-2*x    1]"
      ]
     },
     "execution_count": 5,
     "metadata": {},
     "output_type": "execute_result"
    }
   ],
   "source": [
    "j=jacobian((f1(x,y),f2(x,y)),(x,y))"
   ]
  },
  {
   "cell_type": "code",
   "execution_count": null,
   "id": "1769486f",
   "metadata": {},
   "outputs": [],
   "source": []
  }
 ],
 "metadata": {
  "kernelspec": {
   "display_name": "SageMath 9.2",
   "language": "sage",
   "name": "sagemath"
  },
  "language_info": {
   "codemirror_mode": {
    "name": "ipython",
    "version": 3
   },
   "file_extension": ".py",
   "mimetype": "text/x-python",
   "name": "python",
   "nbconvert_exporter": "python",
   "pygments_lexer": "ipython3",
   "version": "3.9.7"
  }
 },
 "nbformat": 4,
 "nbformat_minor": 5
}
