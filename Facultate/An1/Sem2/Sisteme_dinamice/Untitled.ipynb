{
 "cells": [
  {
   "cell_type": "code",
   "execution_count": 3,
   "id": "2827201d",
   "metadata": {},
   "outputs": [
    {
     "data": {
      "text/html": [
       "<html><script type=\"math/tex; mode=display\">\\newcommand{\\Bold}[1]{\\mathbf{#1}}{\\left(C - e^{\\left(-x^{3}\\right)}\\right)} e^{\\left(x^{3}\\right)}</script></html>"
      ],
      "text/latex": [
       "\\begin{math}\n",
       "\\newcommand{\\Bold}[1]{\\mathbf{#1}}{\\left(C - e^{\\left(-x^{3}\\right)}\\right)} e^{\\left(x^{3}\\right)}\n",
       "\\end{math}"
      ],
      "text/plain": [
       "(_C - e^(-x^3))*e^(x^3)"
      ]
     },
     "metadata": {},
     "output_type": "display_data"
    }
   ],
   "source": [
    "reset()\n",
    "x=var('x')\n",
    "y=function('y')(x)\n",
    "equ=diff(y,x)-3*x^2*y==3*x^2\n",
    "show(desolve(equ,[y,x]))"
   ]
  },
  {
   "cell_type": "code",
   "execution_count": null,
   "id": "d3b9d66f",
   "metadata": {},
   "outputs": [],
   "source": []
  }
 ],
 "metadata": {
  "kernelspec": {
   "display_name": "SageMath 9.2",
   "language": "sage",
   "name": "sagemath"
  },
  "language_info": {
   "codemirror_mode": {
    "name": "ipython",
    "version": 3
   },
   "file_extension": ".py",
   "mimetype": "text/x-python",
   "name": "python",
   "nbconvert_exporter": "python",
   "pygments_lexer": "ipython3",
   "version": "3.9.7"
  }
 },
 "nbformat": 4,
 "nbformat_minor": 5
}
